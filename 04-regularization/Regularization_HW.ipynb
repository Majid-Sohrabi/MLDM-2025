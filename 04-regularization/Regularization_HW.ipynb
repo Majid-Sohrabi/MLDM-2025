{
  "cells": [
    {
      "cell_type": "code",
      "execution_count": null,
      "metadata": {
        "id": "gIxJDCLGXJ6W"
      },
      "outputs": [],
      "source": [
        "import matplotlib.pyplot as plt\n",
        "import numpy as np\n",
        "\n",
        "from sklearn.linear_model import Ridge, Lasso"
      ]
    },
    {
      "cell_type": "markdown",
      "metadata": {
        "id": "hyhdWxi4okEN"
      },
      "source": [
        "# Task 1 (3 points + bonus : 2 points for a well organized and easy to read plot + 1 point for the short comment)"
      ]
    },
    {
      "cell_type": "markdown",
      "metadata": {
        "id": "Wv6bM-m_ow8p"
      },
      "source": [
        "Consider the following toy dataset with pairs of correlated features:"
      ]
    },
    {
      "cell_type": "code",
      "execution_count": null,
      "metadata": {
        "id": "yN5gx_1qonAl"
      },
      "outputs": [],
      "source": [
        "def gen_data(N, correlation=0.5):\n",
        "  # start from 4 independent features:\n",
        "  X = np.random.uniform(-1., 1., size=(N, 4))\n",
        "\n",
        "  y = X @ [2.3, -4.7, -1.7, 3.2] # true dependence\n",
        "\n",
        "  # add correlations, so that X[:,0] correlates with X[:,2] and\n",
        "  # X[:,1] correlates with X[:,3]:\n",
        "  X[:,2:] = correlation * X[:,:2] + (1 - correlation) * X[:,2:]\n",
        "\n",
        "  # add some noise to the targets\n",
        "  y += np.random.normal(size=y.shape)\n",
        "\n",
        "  return X, y"
      ]
    },
    {
      "cell_type": "markdown",
      "metadata": {
        "id": "egoowPhmuWBW"
      },
      "source": [
        "Fit this dataset with Ridge and Lasso (**without the bias term!**), for different correlation levels and various regularization powers.\n",
        "\n",
        "Separately for Ridge and Lasso, and separately for different correlation levels, plot the fitted parameter values as a function of regularization power (x-axis in log scale). Make sure to make some color and pattern coding to make it clear which parameters correspond to correlating groups of features, e.g.:\n",
        "```python\n",
        "# Same color (red), different patterns (solid vs dashed) for features 0 and 2\n",
        "plt.plot(alpha_values, param_0, color='red', label='0')\n",
        "plt.plot(alpha_values, param_2, '--', color='red', label='2')\n",
        "\n",
        "# Same color (blue), different patterns (solid vs dashed) for features 1 and 3\n",
        "plt.plot(alpha_values, param_1, color='blue', label='1')\n",
        "plt.plot(alpha_values, param_3, '--', color='blue', label='3')\n",
        "```\n",
        "Please also add legends, axis labels and/or titles to be able to understand what's shown on this or that plot.\n",
        "\n",
        "What do you observe? How regularization affects the two kinds of models for different correlation levels? Write a short comment."
      ]
    },
    {
      "cell_type": "code",
      "execution_count": null,
      "metadata": {
        "id": "5k6TNTssqvHs"
      },
      "outputs": [],
      "source": [
        "from tqdm import tqdm\n",
        "\n",
        "for correlation in [0.1, 0.5, 0.9]:\n",
        "  # dataset to fit (no need to split into train/test in this task):\n",
        "  X, y = gen_data(500, correlation)\n",
        "\n",
        "  # regularization powers:\n",
        "  alpha_values = np.logspace(-4, 4, 100, base=10)\n",
        "\n",
        "  # lists to collect models' parameters:\n",
        "  params_ridge = []\n",
        "  params_lasso = []\n",
        "\n",
        "  for alpha in tqdm(alpha_values):\n",
        "    # <YOUR CODE>"
      ]
    }
  ],
  "metadata": {
    "colab": {
      "provenance": [],
      "toc_visible": true
    },
    "kernelspec": {
      "display_name": "Python 3 (ipykernel)",
      "language": "python",
      "name": "python3"
    },
    "language_info": {
      "codemirror_mode": {
        "name": "ipython",
        "version": 3
      },
      "file_extension": ".py",
      "mimetype": "text/x-python",
      "name": "python",
      "nbconvert_exporter": "python",
      "pygments_lexer": "ipython3",
      "version": "3.8.11"
    }
  },
  "nbformat": 4,
  "nbformat_minor": 0
}