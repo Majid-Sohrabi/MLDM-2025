{
  "nbformat": 4,
  "nbformat_minor": 0,
  "metadata": {
    "colab": {
      "provenance": []
    },
    "kernelspec": {
      "name": "python3",
      "display_name": "Python 3"
    },
    "language_info": {
      "name": "python"
    }
  },
  "cells": [
    {
      "cell_type": "code",
      "execution_count": null,
      "metadata": {
        "id": "B40_-TmMaFoP"
      },
      "outputs": [],
      "source": [
        "import numpy as np\n",
        "import matplotlib.pyplot as plt\n",
        "import matplotlib as mpl\n",
        "\n",
        "from typing import Tuple\n",
        "from tqdm import tqdm"
      ]
    },
    {
      "cell_type": "markdown",
      "source": [
        "Let's check how average distance between two points uniformly distributied in a unit N-dimensional cube depends on the dimensionality."
      ],
      "metadata": {
        "id": "va2AT3dVak17"
      }
    },
    {
      "cell_type": "code",
      "source": [
        "def run_experiment(\n",
        "  sample_size: int,\n",
        "  dimensionality: int,\n",
        ") -> Tuple[float, float]:\n",
        "  \"\"\"\n",
        "  Runs an experiment and returns the average distance and its standard error.\n",
        "  \"\"\"\n",
        "  points_A, points_B = np.random.uniform(size=(2, sample_size, dimensionality))\n",
        "  distances = ((points_A - points_B)**2).sum(axis=-1)**0.5\n",
        "  return distances.mean(), distances.std(ddof=1) / sample_size**0.5"
      ],
      "metadata": {
        "id": "b5Br70ngakKU"
      },
      "execution_count": null,
      "outputs": []
    },
    {
      "cell_type": "code",
      "source": [
        "dimensionalities = 2**np.arange(11)\n",
        "\n",
        "avg_dists, avg_dist_errs = zip(\n",
        "    *(run_experiment(100, d) for d in tqdm(dimensionalities))\n",
        ")"
      ],
      "metadata": {
        "id": "wc6xSVVfeM8-"
      },
      "execution_count": null,
      "outputs": []
    },
    {
      "cell_type": "code",
      "source": [
        "plt.figure(dpi=150)\n",
        "\n",
        "plt.errorbar(dimensionalities, avg_dists, yerr=avg_dist_errs, fmt=\".\")\n",
        "\n",
        "plt.xscale(\"log\");\n",
        "plt.gca().xaxis.set_major_formatter(mpl.ticker.ScalarFormatter())\n",
        "plt.ylabel(\"avg. distance\")\n",
        "plt.xlabel(\"dimensionality\");"
      ],
      "metadata": {
        "id": "m2PrPvWAvFGS"
      },
      "execution_count": null,
      "outputs": []
    },
    {
      "cell_type": "code",
      "source": [],
      "metadata": {
        "id": "aT--dHXpvOVO"
      },
      "execution_count": null,
      "outputs": []
    }
  ]
}