{
  "cells": [
    {
      "cell_type": "markdown",
      "source": [
        "# Ensembles ( points)"
      ],
      "metadata": {
        "id": "WthqzWGJagTg"
      }
    },
    {
      "cell_type": "code",
      "execution_count": null,
      "metadata": {
        "id": "cF5wcLSHBOw-"
      },
      "outputs": [],
      "source": [
        "import matplotlib.pyplot as plt\n",
        "import pandas as pd\n",
        "from sklearn.datasets import fetch_california_housing\n",
        "from sklearn.model_selection import train_test_split\n",
        "\n",
        "\n",
        "dataset = fetch_california_housing()\n",
        "\n",
        "data = pd.DataFrame(dataset.data, columns=dataset.feature_names)\n",
        "data['target'] = dataset.target\n",
        "\n",
        "print(len(data))\n",
        "data.head(10)"
      ]
    },
    {
      "cell_type": "code",
      "execution_count": null,
      "metadata": {
        "id": "R-dhzIu9HLcF"
      },
      "outputs": [],
      "source": [
        "print(dataset.DESCR)"
      ]
    },
    {
      "cell_type": "markdown",
      "metadata": {
        "id": "ZtGrJYtvHIKT"
      },
      "source": [
        "This data contains 2 spacial features: `['Longitude', 'Latitude']`:"
      ]
    },
    {
      "cell_type": "code",
      "execution_count": null,
      "metadata": {
        "id": "-9cf0j7qBmTr"
      },
      "outputs": [],
      "source": [
        "plt.figure(figsize=(5, 4), dpi=100)\n",
        "plt.scatter(data.Longitude, data.Latitude, s=data.target, c=data.target, cmap='bwr');"
      ]
    },
    {
      "cell_type": "markdown",
      "metadata": {
        "id": "53JksV8hLeqn"
      },
      "source": [
        "(Compare this plot with the map of California: https://en.wikipedia.org/wiki/California)"
      ]
    },
    {
      "cell_type": "markdown",
      "metadata": {
        "id": "OPHN4_8pH6qB"
      },
      "source": [
        "A kNN model might be quite reasonable to use on this 2D subspace.\n",
        "\n",
        "Let's first divide our data into train and test:"
      ]
    },
    {
      "cell_type": "code",
      "execution_count": null,
      "metadata": {
        "id": "l8boBXE9DsU9"
      },
      "outputs": [],
      "source": [
        "X, y = data.drop('target', axis=1), data['target']\n",
        "X_train, X_test, y_train, y_test = train_test_split(X, y, test_size=0.25, random_state=1234)\n",
        "print(X_train.shape, X_test.shape, y_train.shape, y_test.shape)"
      ]
    },
    {
      "cell_type": "markdown",
      "metadata": {
        "id": "opXKafmeIJHl"
      },
      "source": [
        " - Build a kNN regressor on the `Longitude` and `Latitude` features (**0.5 point**)\n",
        " - Build a random forest regressor on the rest of the features (**0.5 point**)\n",
        " - Build a stacking regressor (`sklearn.ensemble.StackingRegressor`) with 5-fold cross-val-predict using the two models above as the base models and a linear regression model as the final (aggregating) estimator. Don't forget to optimize hyper-parameters of your models. (**4 points**)\n",
        " - Compare the test MSE losses of the 3 models above, leave a comment (**1 point**)\n",
        "\n",
        "\n",
        "Make sure to have a look at the documentation:\n",
        "https://scikit-learn.org/stable/modules/ensemble.html#stacking\n",
        "\n",
        "You can make a pipeline (`sklearn.pipeline.make_pipeline`) with a `ColumnTransformer` (`sklearn.compose.make_column_transformer`) and a regression model (knn or random forest), where the `ColumnTransformer` will select the desired columns from the dataset (see the docs for the column transformer: https://scikit-learn.org/stable/modules/generated/sklearn.compose.make_column_transformer.html)."
      ]
    },
    {
      "cell_type": "code",
      "execution_count": null,
      "metadata": {
        "id": "BwU6mwZ_Chu0"
      },
      "outputs": [],
      "source": [
        "from sklearn.compose import make_column_transformer\n",
        "from sklearn.pipeline import make_pipeline\n",
        "from sklearn.neighbors import KNeighborsRegressor\n",
        "from sklearn.ensemble import RandomForestRegressor, StackingRegressor\n",
        "from sklearn.linear_model import LinearRegression\n",
        "\n",
        "from sklearn.metrics import mean_squared_error"
      ]
    },
    {
      "cell_type": "code",
      "execution_count": null,
      "metadata": {
        "id": "vdQRhLvSBuV1"
      },
      "outputs": [],
      "source": [
        "<YOUR CODE>"
      ]
    }
  ],
  "metadata": {
    "colab": {
      "provenance": []
    },
    "kernelspec": {
      "display_name": "Python 3 (ipykernel)",
      "language": "python",
      "name": "python3"
    },
    "language_info": {
      "codemirror_mode": {
        "name": "ipython",
        "version": 3
      },
      "file_extension": ".py",
      "mimetype": "text/x-python",
      "name": "python",
      "nbconvert_exporter": "python",
      "pygments_lexer": "ipython3",
      "version": "3.8.11"
    }
  },
  "nbformat": 4,
  "nbformat_minor": 0
}